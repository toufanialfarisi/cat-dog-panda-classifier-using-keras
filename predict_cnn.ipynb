{
 "cells": [
  {
   "cell_type": "code",
   "execution_count": null,
   "metadata": {},
   "outputs": [],
   "source": [
    "!pip install imutils\n",
    "!pip install opencv-python"
   ]
  },
  {
   "cell_type": "code",
   "execution_count": null,
   "metadata": {},
   "outputs": [],
   "source": [
    "# import library keras\n",
    "import keras\n",
    "\n",
    "# import library open computer vision\n",
    "import cv2\n",
    "\n",
    "# import library komputasi numerik\n",
    "import numpy as np\n",
    "\n",
    "# import ilbrary pendukung open cv untuk keperluan manajemen data\n",
    "from imutils import paths\n",
    "\n",
    "# import metode dari library keras untuk load model yang sudah dilatih\n",
    "from keras.models import load_model\n",
    "\n",
    "# import library pickle untuk load label yang telah disimpan tadi\n",
    "import pickle\n"
   ]
  },
  {
   "cell_type": "code",
   "execution_count": null,
   "metadata": {},
   "outputs": [],
   "source": [
    "# load modelnya dulu\n",
    "model = load_model('model_cnn.h5')\n",
    "\n",
    "# load label yang disimpan dalam format pickle tadi\n",
    "label = open('lable.pickle', 'rb').read()\n",
    "lb = pickle.loads(label)\n",
    "\n",
    "# cek apakah berhasil \n",
    "print(model.summary())"
   ]
  },
  {
   "cell_type": "code",
   "execution_count": null,
   "metadata": {},
   "outputs": [],
   "source": [
    "# import library plotting\n",
    "import matplotlib.pyplot as plt\n",
    "\n",
    "# lihat sebuah gambar\n",
    "file_gbr = 'datasets/animals/cats/cats_00028.jpg'\n",
    "\n",
    "# baca gambarnya\n",
    "gbr = plt.imread(file_gbr)\n",
    "\n",
    "# kasi judul gambarnya dengan menampilkan nama_file gambarnya + dimensi gambarnya\n",
    "plt.title('gambar = '+str(file_gbr.split('/')[3])+' ; ukuran = '+str(gbr.shape)+'\\n')\n",
    "\n",
    "# tampilkan\n",
    "plt.imshow(gbr)"
   ]
  },
  {
   "cell_type": "code",
   "execution_count": null,
   "metadata": {},
   "outputs": [],
   "source": [
    "# lihat sebuah gambar\n",
    "\n",
    "# untuk jaga-jaga, simpan / backup data gambar ke sebuah variabel\n",
    "output = gbr.copy()\n",
    "img = gbr.copy()\n",
    "\n",
    "# ubah dimensi / ukurannya menjadi 32 x 32\n",
    "img_cnn = cv2.resize(img, (32,32))\n",
    "\n",
    "# tambahkan dimensi gambarnnya\n",
    "img_cnn = np.expand_dims(img_cnn, axis = 0)\n",
    "\n",
    "# melakukan prediksi\n",
    "pred = model.predict(img_cnn)\n",
    "\n",
    "# proses kembali sehingga didapatkan label kelas keluaran hasil prediksinya\n",
    "i = pred.argmax(axis = 1)[0]\n",
    "label_class = lb.classes_[i]\n",
    "\n",
    "# tulis label dan akurasinya di gambarnya dengan bantuan open cv putText\n",
    "text = \"{}: {:.2f}%\".format(label_class, pred[0][i] * 100)\n",
    "cv2.putText(output, text, (10, 30), cv2.FONT_HERSHEY_SIMPLEX, 0.7, (0, 255, 0), 2)\n",
    "\n",
    "# tampilkan gambar\n",
    "plt.figure(figsize=[5,5])\n",
    "plt.imshow(output)"
   ]
  },
  {
   "cell_type": "markdown",
   "metadata": {},
   "source": [
    "<h2> BONUS - OBJECT DETECTION [ MobileNet SSD ] </h2>"
   ]
  },
  {
   "cell_type": "code",
   "execution_count": null,
   "metadata": {},
   "outputs": [],
   "source": [
    "import numpy as np\n",
    "import argparse\n",
    "import cv2\n",
    "\n",
    "CLASSES = [\"background\", \"aeroplane\", \"bicycle\", \"bird\", \"boat\",\n",
    "    \"bottle\", \"bus\", \"car\", \"cat\", \"chair\", \"cow\", \"diningtable\",\n",
    "    \"dog\", \"horse\", \"motorbike\", \"person\", \"pottedplant\", \"sheep\",\n",
    "    \"sofa\", \"train\", \"tvmonitor\"]\n",
    "COLORS = np.random.uniform(255, 100, size=(len(CLASSES), 3))\n",
    "print(\"[INFO] loading model...\")\n",
    "prototxt = 'object_detection/MobileNetSSD_deploy.prototxt.txt'\n",
    "model_proto = 'object_detection/MobileNetSSD_deploy.caffemodel'\n",
    "net = cv2.dnn.readNetFromCaffe(prototxt, model_proto)\n",
    "\n",
    "\n",
    "image = cv2.imread(file_gbr)\n",
    "(h, w) = image.shape[:2]\n",
    "blob = cv2.dnn.blobFromImage(cv2.resize(image, (300, 300)), 0.007843, (300, 300), 127.5)\n",
    "\n",
    "print(\"[INFO] computing object detections...\")\n",
    "net.setInput(blob)\n",
    "detections = net.forward()\n",
    "\n",
    "for i in np.arange(0, detections.shape[2]):\n",
    "\n",
    "    confidence = detections[0, 0, i, 2]\n",
    "\n",
    "    if confidence > 0.2:\n",
    "\n",
    "        idx = int(detections[0, 0, i, 1])\n",
    "        box = detections[0, 0, i, 3:7] * np.array([w, h, w, h])\n",
    "        (startX, startY, endX, endY) = box.astype(\"int\")\n",
    "\n",
    "        label = \"{}: {:.2f}%\".format(CLASSES[idx], confidence * 100)\n",
    "        print(\"[INFO] {}\".format(label))\n",
    "        cv2.rectangle(image, (startX, startY), (endX, endY),COLORS[idx], 2)\n",
    "        y = startY - 15 if startY - 15 > 15 else startY + 15\n",
    "        cv2.putText(image, label, (startX, y), cv2.FONT_HERSHEY_SIMPLEX, 0.5, COLORS[idx], 2)\n",
    "\n",
    "plt.figure(figsize=[5,5])\n",
    "plt.imshow(image)"
   ]
  },
  {
   "cell_type": "code",
   "execution_count": null,
   "metadata": {},
   "outputs": [],
   "source": []
  }
 ],
 "metadata": {
  "kernelspec": {
   "display_name": "Python 3",
   "language": "python",
   "name": "python3"
  },
  "language_info": {
   "codemirror_mode": {
    "name": "ipython",
    "version": 3
   },
   "file_extension": ".py",
   "mimetype": "text/x-python",
   "name": "python",
   "nbconvert_exporter": "python",
   "pygments_lexer": "ipython3",
   "version": "3.6.5"
  }
 },
 "nbformat": 4,
 "nbformat_minor": 2
}
