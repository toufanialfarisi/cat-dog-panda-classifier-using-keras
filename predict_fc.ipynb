{
 "cells": [
  {
   "cell_type": "code",
   "execution_count": null,
   "metadata": {},
   "outputs": [],
   "source": [
    "!pip install imutils\n",
    "!pip install opencv-python"
   ]
  },
  {
   "cell_type": "code",
   "execution_count": null,
   "metadata": {},
   "outputs": [],
   "source": [
    "# import library keras\n",
    "import keras\n",
    "\n",
    "# import library open computer vision\n",
    "import cv2\n",
    "\n",
    "# import library komputasi numerik\n",
    "import numpy as np\n",
    "\n",
    "# import ilbrary pendukung open cv untuk keperluan manajemen data\n",
    "from imutils import paths\n",
    "\n",
    "# import metode dari library keras untuk load model yang sudah dilatih\n",
    "from keras.models import load_model\n",
    "\n",
    "# import pickle untuk load labelnya\n",
    "import pickle\n"
   ]
  },
  {
   "cell_type": "code",
   "execution_count": null,
   "metadata": {},
   "outputs": [],
   "source": [
    "# load modelnya dulu\n",
    "keras_model = 'model_fc.h5'\n",
    "model = load_model(keras_model)\n",
    "\n",
    "# load label yang disimpan dalam format pickle tadi\n",
    "label = open('lable.pickle', 'rb').read()\n",
    "lb = pickle.loads(label)\n",
    "\n",
    "# cek apakah berhasil \n",
    "print(model.summary())"
   ]
  },
  {
   "cell_type": "code",
   "execution_count": null,
   "metadata": {},
   "outputs": [],
   "source": [
    "import matplotlib.pyplot as plt\n",
    "\n",
    "# lihat sebuah gambar\n",
    "file_gbr = 'datasets/animals/cats/cats_00004.jpg'\n",
    "\n",
    "# baca gambarnya\n",
    "gbr = cv2.imread(file_gbr)\n",
    "\n",
    "gbr_res = cv2.resize(gbr, (100,100))\n",
    "\n",
    "# kasi judul gambarnya dengan menampilkan nama_file gambarnya + dimensi gambarnya\n",
    "plt.title('gambar = '+str(file_gbr.split('/')[3])+' ; ukuran = '+str(gbr_res.shape)+ '\\n')\n",
    "\n",
    "# tampilkan\n",
    "plt.imshow(gbr)"
   ]
  },
  {
   "cell_type": "markdown",
   "metadata": {},
   "source": [
    "<h3>ARSITEKTUR NEURAL NETWORK SEDERHANA</h3>"
   ]
  },
  {
   "cell_type": "code",
   "execution_count": null,
   "metadata": {},
   "outputs": [],
   "source": [
    "# baca gambarnya\n",
    "gbr = cv2.imread(file_gbr)\n",
    "\n",
    "# untuk jaga-jaga, simpan / backup data gambar ke sebuah variabel\n",
    "img = gbr.copy()\n",
    "output = img.copy()\n",
    "\n",
    "img_gray = cv2.cvtColor(img, cv2.COLOR_BGR2GRAY)\n",
    "\n",
    "# ubah ukuran gambar tersebut ke dalam vektor (32 x 32 x 3)\n",
    "img_resize = cv2.resize(img_gray, (32,32)).flatten()\n",
    "\n",
    "# ubah yang vektor tadi ke dalam 2-dimensional array dan masukan ke var baru\n",
    "img_2 = img_resize.reshape([1, 32*32*1])\n",
    "\n",
    "# lakukan prediksi pada gambar tadi\n",
    "pred = model.predict(img_2)\n",
    "\n",
    "# proses kembali sehingga didapatkan label kelas keluaran hasil prediksinya\n",
    "i = pred.argmax(axis = 1)[0]\n",
    "label_class = lb.classes_[i]\n",
    "\n",
    "# tulis label dan akurasinya di gambarnya dengan bantuan open cv putText\n",
    "text = \"{}: {:.2f}%\".format(label_class, pred[0][i] * 100)\n",
    "cv2.putText(output, text, (10, 30), cv2.FONT_HERSHEY_SIMPLEX, 0.7, (0, 255, 0), 2)\n",
    "\n",
    "# tampilkan gambar\n",
    "plt.figure(figsize=[5,5])\n",
    "plt.imshow(output)"
   ]
  }
 ],
 "metadata": {
  "kernelspec": {
   "display_name": "Python 3",
   "language": "python",
   "name": "python3"
  },
  "language_info": {
   "codemirror_mode": {
    "name": "ipython",
    "version": 3
   },
   "file_extension": ".py",
   "mimetype": "text/x-python",
   "name": "python",
   "nbconvert_exporter": "python",
   "pygments_lexer": "ipython3",
   "version": "3.6.5"
  }
 },
 "nbformat": 4,
 "nbformat_minor": 2
}
